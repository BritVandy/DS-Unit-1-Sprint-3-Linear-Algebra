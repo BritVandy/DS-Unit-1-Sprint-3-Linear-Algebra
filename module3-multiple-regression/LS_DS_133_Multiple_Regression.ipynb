{
  "nbformat": 4,
  "nbformat_minor": 0,
  "metadata": {
    "colab": {
      "name": "LS_DS_133_Multiple_Regression.ipynb",
      "provenance": [],
      "collapsed_sections": []
    },
    "kernelspec": {
      "name": "python3",
      "display_name": "Python 3"
    }
  },
  "cells": [
    {
      "cell_type": "markdown",
      "metadata": {
        "id": "RQw2GTc8oDRw"
      },
      "source": [
        "Unit 1, Sprint 3, Module 3\n",
        "\n",
        "###Learning Objectives:\n",
        "- Student can model the relationship of multple predictor variables to a single outcome.\n",
        "- Student can conduct a t-test to determine the significance of individual variables in the model.\n",
        "- Student can compare model fit using R-squared"
      ]
    },
    {
      "cell_type": "markdown",
      "metadata": {
        "id": "uhmdnOzupL1N"
      },
      "source": [
        "### Returning to our forensic science example:\n",
        "\n"
      ]
    },
    {
      "cell_type": "markdown",
      "metadata": {
        "id": "K1ExqvbepUkB"
      },
      "source": [
        "Anyone who is a fan of detective TV shows has watched a scene where human remains are discovered and some sort of expert is called in to determine when the person died. But is this science fiction or science fact? Is it possible to use evidence from skeletal remains to determine how long a body has been buried (a decent approximation of how long the person has been dead)? \n",
        "\n",
        "\n"
      ]
    },
    {
      "cell_type": "markdown",
      "metadata": {
        "id": "OypdMHJop6bQ"
      },
      "source": [
        "Researchers sampled long bone material from bodies exhumed from coffin burials in two cemeteries in England. In each case, date of death and burial (and therefore interment time) was known. This data is given in the Longbones.csv dataset. "
      ]
    },
    {
      "cell_type": "markdown",
      "metadata": {
        "id": "lM5t4Yajp8mH"
      },
      "source": [
        "**We wish to determine if we can improve our model of the relationship between the nitrogen composition of the long bones of the skeleton and the length of time the body was interred.**\n",
        "\n",
        "Source: D.R. Jarvis (1997). \"Nitrogen Levels in Long Bones from Coffin Burials Interred for Periods of 26-90 Years,\" Forensic Science International, Vol85, pp199-208"
      ]
    },
    {
      "cell_type": "code",
      "metadata": {
        "id": "sJegaDmRn0a6"
      },
      "source": [
        "#Import the Longbones.csv dataset from a URL and print the first few rows\n",
        "\n",
        "import pandas as pd\n",
        "import numpy as np\n",
        "\n",
        "\n",
        "data_url = 'https://raw.githubusercontent.com/LambdaSchool/data-science-practice-datasets/main/unit_1/Longbones/Longbones.csv'\n",
        "\n",
        "df = pd.read_csv(data_url, skipinitialspace=True, header=0)\n",
        "\n",
        "#Drop records with NAs and rename the dataset longbones\n",
        "\n",
        "longbones = df.dropna()\n",
        "\n",
        "longbones.head()"
      ],
      "execution_count": null,
      "outputs": []
    },
    {
      "cell_type": "markdown",
      "metadata": {
        "id": "UygPGJ5Iq4zZ"
      },
      "source": [
        "At the point we left off yesterday, we'd tested for and found a statisticaly significant relationship between long bone nitrogen composition and interrment time."
      ]
    },
    {
      "cell_type": "markdown",
      "metadata": {
        "id": "UIqgn0THlinM"
      },
      "source": [
        "The null hypothesis is that they are unrelated and the slope is = 0.  The alternative hypothesis is that they are related and the slope is not equal to 0.  In symbolic notation:\n",
        "\n",
        "Ho: $\\beta_1$ = 0\n",
        "\n",
        "Ha: $\\beta_1 \\neq$ 0"
      ]
    },
    {
      "cell_type": "code",
      "metadata": {
        "id": "sVZOz0j8xLb4"
      },
      "source": [
        ""
      ],
      "execution_count": null,
      "outputs": []
    },
    {
      "cell_type": "markdown",
      "metadata": {
        "id": "4eJsXuRLxKrz"
      },
      "source": [
        "Today let's take a look at some of the information about model fit displayed in the upper right hand side of the top box."
      ]
    },
    {
      "cell_type": "markdown",
      "metadata": {
        "id": "y21TW4n67mNq"
      },
      "source": [
        "**R-squared** (also abbreviated $R^2$) is equal to the square of the correlation coefficient.  It's a number between 0 and 1 that is often expressed as a percent.\n",
        "\n"
      ]
    },
    {
      "cell_type": "markdown",
      "metadata": {
        "id": "8GuTIO3Nvkyb"
      },
      "source": [
        "The interpretation of R-squared is \"the percent of the variability in the y variable that is explained by differences in the x variable(s)\".  \n"
      ]
    },
    {
      "cell_type": "markdown",
      "metadata": {
        "id": "ANlLU6MSvnN2"
      },
      "source": [
        "In this case, $R^2$ = 0.45 = 45%.  The interpretation is that 45% of the variability in interrment length is explained by differences in nitrogen composition of the long bones.\n"
      ]
    },
    {
      "cell_type": "markdown",
      "metadata": {
        "id": "nh3IRa62vslY"
      },
      "source": [
        "\n",
        "That means that 55% of the variability in interrment time remains unexplained by the model.  "
      ]
    },
    {
      "cell_type": "markdown",
      "metadata": {
        "id": "kzf5OLiCwJxZ"
      },
      "source": [
        "This remaining variablility can be seen in the scatterplot where we have skeletons with the same nitrogen compositon but different interment times."
      ]
    },
    {
      "cell_type": "code",
      "metadata": {
        "id": "rdcccUuCv9Te"
      },
      "source": [
        ""
      ],
      "execution_count": null,
      "outputs": []
    },
    {
      "cell_type": "markdown",
      "metadata": {
        "id": "9VLKDiESxJSR"
      },
      "source": [
        "How do we address this unexplained variability?  \n",
        "\n",
        "Well, one obvious place to start is to see if some of the other variables can help us understand why skeletons with the same nitrogen composition have different interment times."
      ]
    },
    {
      "cell_type": "markdown",
      "metadata": {
        "id": "EmEI47CbC-ld"
      },
      "source": [
        "We can do this by adding additional terms to our model and testing to see if they are statistically significant.\n"
      ]
    },
    {
      "cell_type": "markdown",
      "metadata": {
        "id": "J4Zvv3fmDI2W"
      },
      "source": [
        "Simple linear regression model: $\\hat{y} = \\beta_0 + \\beta_1x$"
      ]
    },
    {
      "cell_type": "markdown",
      "metadata": {
        "id": "vXtOtQ-fDTaa"
      },
      "source": [
        "Multiple regresssion model: $\\hat{y} = \\beta_0 + \\beta_1x + \\beta_2x + \\beta_3x +...$"
      ]
    },
    {
      "cell_type": "markdown",
      "metadata": {
        "id": "3Tf30mj2EeYd"
      },
      "source": [
        "As with simple linear regression, we use t-tests to determine if model features are statistically significantly associated with the target. "
      ]
    },
    {
      "cell_type": "markdown",
      "metadata": {
        "id": "jXvMYjhBoWWy"
      },
      "source": [
        "\n",
        "Let's start by looking at Lime, which indicates if the body was buried with Quicklime or not.  \n"
      ]
    },
    {
      "cell_type": "markdown",
      "metadata": {
        "id": "GI170a6-o6hx"
      },
      "source": [
        "We can ask the question, \"Does burial with Quicklime change the relationship between long bone nitrogen composition and interment time?\""
      ]
    },
    {
      "cell_type": "code",
      "metadata": {
        "id": "LtYcWjOGAXo3"
      },
      "source": [
        "import matplotlib.pyplot as plt\n",
        "fig, ax = plt.subplots() \n",
        "\n",
        "#Color the points differently depending on if the body was buried with Quicklime or not.\n",
        "plt.scatter(x = longbones['Nitro'], y = longbones['Time'], c = longbones['Lime'])\n",
        "\n",
        "ax.set_title('Long Bone Nitrogen Composition and Interment Time')\n",
        "ax.set_xlabel('Long Bone Nitrogen Composition in g/100g of Bone')\n",
        "ax.set_ylabel('Interment Time in Years')\n",
        "\n",
        "plt.show()"
      ],
      "execution_count": null,
      "outputs": []
    },
    {
      "cell_type": "markdown",
      "metadata": {
        "id": "Zhj_5D2bpJIR"
      },
      "source": [
        "There does seem to be a different pattern in the relationship between nitrogen composition and interment time depending on if the body was buried with Quicklime, and we can test this claim formally using a hypothesis test."
      ]
    },
    {
      "cell_type": "markdown",
      "metadata": {
        "id": "KqRQiC4yCZwL"
      },
      "source": [
        "Our multiple regresssion model is: $\\hat{y} = \\beta_0 + \\beta_1x$Nitro + $\\beta_2x$Lime"
      ]
    },
    {
      "cell_type": "markdown",
      "metadata": {
        "id": "N_1Es6J1pla_"
      },
      "source": [
        "Now we can test the null hypothesis that burial with Quicklime is not associated with tnterrment time against the alternative hypothesis is that burial with Quicklime is associated with interment time.  In symbolic notation:\n",
        "\n",
        "Ho: $\\beta_2$ = 0\n",
        "\n",
        "Ha: $\\beta_2 \\neq$ 0"
      ]
    },
    {
      "cell_type": "code",
      "metadata": {
        "id": "uY6TQZu2GE-R"
      },
      "source": [
        ""
      ],
      "execution_count": null,
      "outputs": []
    },
    {
      "cell_type": "markdown",
      "metadata": {
        "id": "55FQEaZup0xi"
      },
      "source": [
        "Now we see \"Lime\" appear in the model under Nitro alongside the model coefficient, standard error, t-test, p-value and CI."
      ]
    },
    {
      "cell_type": "markdown",
      "metadata": {
        "id": "Q39BIzI-IAqM"
      },
      "source": [
        "Both Nitro and Lime are statistically significant predictors of interrment time so it makes sense to include both of them in our statistical model.\n",
        "\n",
        "We can write the model using the coefficients shown in the table as:\n",
        "\n",
        "$\\hat{y}$ = 180.47 - 35.63 x Nitro + 25.45 x Lime\n",
        "\n"
      ]
    },
    {
      "cell_type": "markdown",
      "metadata": {
        "id": "3gr8OoX8qpqY"
      },
      "source": [
        "When we have a model with more than one feature, we talk about each one being significantly associated with the target *after taking into account the effects of the other variables*.\n",
        "\n",
        "After taking into account long bone nitrogen composition, burial with Quicklime is statistically significnatly associated with interrment time.\n",
        "\n",
        "And vice versa.\n",
        "\n",
        "After taking into account burial with Quicklime, long bone nitrogen composition is statistically associated with interment time."
      ]
    },
    {
      "cell_type": "markdown",
      "metadata": {
        "id": "eucccNn4rDMD"
      },
      "source": [
        "Because we now have two significant predictors in our model instead of just one, we'd expect the percent of variability in y to be higher for the model with both nitrogen composition and Quicklime compared to the model with just nitrogen composition."
      ]
    },
    {
      "cell_type": "markdown",
      "metadata": {
        "id": "hYfLzVVwrzH2"
      },
      "source": [
        "The output above gives us multiple mesures comparing model predictive ability and fit, but we are going to continue to focus on $R^2$ (AIC, BIC and log likelihood are all less easily interpretable measures of model fit).\n",
        "\n",
        "\n",
        "\n"
      ]
    },
    {
      "cell_type": "markdown",
      "metadata": {
        "id": "_iHNtE1-LM7r"
      },
      "source": [
        "However, regular old $R^2$ has one big problem. It will always go up when you enter more factors in the model, even if they aren't statistically significant.\n",
        "\n",
        "Adjusted $R^2$ penalizes you just a little bit for adding in new model terms, so it will only increase if the new term really adds to the predictive ability of the model."
      ]
    },
    {
      "cell_type": "markdown",
      "metadata": {
        "id": "DBF7_XX0NqGA"
      },
      "source": [
        "In the model with just nitrogen composition, adjusted $R^2$ = 0.433\n",
        "\n",
        "In the model with both nitrogen composition and burial with Quicklime, adjusted $R^2$ = 0.762"
      ]
    },
    {
      "cell_type": "markdown",
      "metadata": {
        "id": "_YFlFydYsHuk"
      },
      "source": [
        "That's a huge increase in predictive ability!\n"
      ]
    },
    {
      "cell_type": "markdown",
      "metadata": {
        "id": "xc1PYc1ysan9"
      },
      "source": [
        "Now we can say that about 76% of the variability in interrment time can be explained by differences in long bone nitrogen composition and use of Quicklime at burial."
      ]
    },
    {
      "cell_type": "markdown",
      "metadata": {
        "id": "82l60bgp0vR5"
      },
      "source": [
        "Can we do even better?????"
      ]
    },
    {
      "cell_type": "markdown",
      "metadata": {
        "id": "2nEnFXNDtg5D"
      },
      "source": [
        "Let's add burial depth to the model."
      ]
    },
    {
      "cell_type": "markdown",
      "metadata": {
        "id": "II_IqVUIuO5E"
      },
      "source": [
        "Our multiple regresssion model is: $\\hat{y} = \\beta_0 + \\beta_1x$Nitro + $\\beta_2x$Lime + $\\beta_3x$Depth"
      ]
    },
    {
      "cell_type": "markdown",
      "metadata": {
        "id": "ZTnN18NN1H-c"
      },
      "source": [
        "This time we want to test the null hypothesis that - after accounting for differences in nitrogen composition and burial with Quicklime - burial depth is not associated with interment time against the alternative hypothesis is that burial depth is associated with interment time.  In symbolic notation:\n",
        "\n",
        "Ho: $\\beta_3$ = 0\n",
        "\n",
        "Ha: $\\beta_3 \\neq$ 0"
      ]
    },
    {
      "cell_type": "code",
      "metadata": {
        "id": "yPsXBJsAv-Rq"
      },
      "source": [
        ""
      ],
      "execution_count": null,
      "outputs": []
    },
    {
      "cell_type": "markdown",
      "metadata": {
        "id": "G4oNjo6t2BAs"
      },
      "source": [
        "In this case we see that we **fail to reject the null hypothesis** and we conclude that - after accounting for nitrogen composition and burial with Quicklime - burial depth is not associated with interrment time."
      ]
    },
    {
      "cell_type": "markdown",
      "metadata": {
        "id": "vSMTSIetP38W"
      },
      "source": [
        "Looking at the adjusted $R^2$, we see the predictive ability of this model falls a tiny bit to 0.75."
      ]
    },
    {
      "cell_type": "markdown",
      "metadata": {
        "id": "LJ-vZoArQFex"
      },
      "source": [
        "We will choose not to include burial depth in our model of interment time.  Our current best model remains:\n",
        "\n",
        "$\\hat{y}$ = 180.47 - 35.63 x Nitro + 25.45 x Lime\n",
        "\n"
      ]
    },
    {
      "cell_type": "markdown",
      "metadata": {
        "id": "ALHIkP4PwVWt"
      },
      "source": [
        "We have one more variable to consider.  Let's add age at the time of death to the previous model and see if that adds to the predictive ability."
      ]
    },
    {
      "cell_type": "markdown",
      "metadata": {
        "id": "m331yLSp4cgn"
      },
      "source": [
        "Our multiple regresssion model is: $\\hat{y} = \\beta_0 + \\beta_1x$Nitro + $\\beta_2x$Lime + $\\beta_3x$Age"
      ]
    },
    {
      "cell_type": "markdown",
      "metadata": {
        "id": "SSHWw7Rw35Lr"
      },
      "source": [
        "This time we want to test the null hypothesis that - after accounting for differences in nitrogen composition and burial with Quicklime - age at the time of death is not associated with interment time against the alternative hypothesis is that age at the time of death is associated with interment time.  In symbolic notation:\n",
        "\n",
        "Ho: $\\beta_3$ = 0\n",
        "\n",
        "Ha: $\\beta_3 \\neq$ 0"
      ]
    },
    {
      "cell_type": "code",
      "metadata": {
        "id": "2-9cswPmRV2D"
      },
      "source": [
        ""
      ],
      "execution_count": null,
      "outputs": []
    },
    {
      "cell_type": "markdown",
      "metadata": {
        "id": "wYBevsdf4R2H"
      },
      "source": [
        "Again we **fail to reject the null hypothesis** and we conclude that - after accounting for nitrogen composition and burial with Quicklime - age at the time of death is not associated with interrment time.  The adjusted $R^2$ also decreases as when we added burial depth."
      ]
    },
    {
      "cell_type": "markdown",
      "metadata": {
        "id": "ML2uKT1D7Qxe"
      },
      "source": [
        "Based on the data we have, the best model to predict interrment time of a skeleton is:\n",
        "\n",
        "$\\hat{y}$ = 180.47 - 35.63 x Nitro + 25.45 x Lime"
      ]
    },
    {
      "cell_type": "markdown",
      "metadata": {
        "id": "5eijXEWKSaK3"
      },
      "source": [
        "Let's play CSI one more time and use it to make predictions about how long a body has been interred for different values of long bone nitrogen composition and Quicklime application."
      ]
    },
    {
      "cell_type": "markdown",
      "metadata": {
        "id": "wqv11_e7S7Ib"
      },
      "source": [
        "- A body that was not buried with Quicklime that has 3.88 g of nitrogen /100g of bone remaining in the long bones of the skeleton."
      ]
    },
    {
      "cell_type": "code",
      "metadata": {
        "id": "Az7aXj-N6sW6"
      },
      "source": [
        "\n"
      ],
      "execution_count": null,
      "outputs": []
    },
    {
      "cell_type": "markdown",
      "metadata": {
        "id": "B1O2nuW_3ixr"
      },
      "source": [
        "We estimate this body has been buried for about 42.24 years."
      ]
    },
    {
      "cell_type": "markdown",
      "metadata": {
        "id": "-rhf7zmX9g3E"
      },
      "source": [
        "* A body that was buried with Quicklime and has 3.59 g of nitrogen per 100g of bone remaining in the long bones of the skeleton."
      ]
    },
    {
      "cell_type": "code",
      "metadata": {
        "id": "uswEbjkLUPq9"
      },
      "source": [
        "\n"
      ],
      "execution_count": null,
      "outputs": []
    },
    {
      "cell_type": "markdown",
      "metadata": {
        "id": "iRVl1ZyC92kj"
      },
      "source": [
        "We expect this body has been buried for about 78 years."
      ]
    },
    {
      "cell_type": "markdown",
      "metadata": {
        "id": "RnDi8855VIPB"
      },
      "source": [
        "\n",
        "\n",
        "---\n",
        "\n"
      ]
    },
    {
      "cell_type": "markdown",
      "metadata": {
        "id": "9wOmYg06VLxt"
      },
      "source": [
        "What happens if I have a lot - like thousands - of potential features?"
      ]
    },
    {
      "cell_type": "markdown",
      "metadata": {
        "id": "hm8aqRPkVVzF"
      },
      "source": [
        "There are many, many machine learning algorithms that have been built to evaluate the most important features of a dataset, and you will learn several of the most common ones as you move throughout the units of the data science curriculum.\n",
        "\n",
        "However, at a very basic level, they all work the same way we did today by evaluating how much information a particular feature contributes to the model."
      ]
    }
  ]
}